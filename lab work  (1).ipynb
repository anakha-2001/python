{
 "cells": [
  {
   "cell_type": "markdown",
   "id": "ee2f082b",
   "metadata": {},
   "source": [
    "Q1)"
   ]
  },
  {
   "cell_type": "code",
   "execution_count": 3,
   "id": "5334cf11",
   "metadata": {},
   "outputs": [
    {
     "name": "stdout",
     "output_type": "stream",
     "text": [
      "Welcome to my Calculator!!\n",
      "Enter first no:2\n",
      "Enter second no:4\n",
      "1:-Addition\n",
      "2:-Substraction\n",
      "3:-Multiplication\n",
      "4:-Division\n",
      "Enter the option:1\n",
      "6\n"
     ]
    }
   ],
   "source": [
    "print(\"Welcome to my Calculator!!\")\n",
    "p=int(input(\"Enter first no:\"))\n",
    "q=int(input(\"Enter second no:\"))\n",
    "print(\"1:-Addition\")\n",
    "print(\"2:-Substraction\")\n",
    "print(\"3:-Multiplication\")\n",
    "print(\"4:-Division\")\n",
    "opt=int(input(\"Enter the option:\"))\n",
    "if(opt==1):\n",
    "  print(p+q)\n",
    "elif(opt==2):\n",
    "  print(p-q)\n",
    "elif(opt==3):\n",
    "  print(p*q)\n",
    "elif(opt==4):\n",
    "  print(p/q)\n",
    "else:\n",
    "    print(\"Invalid no!!\")"
   ]
  },
  {
   "cell_type": "markdown",
   "id": "f0e71d0e",
   "metadata": {},
   "source": [
    "Q2)"
   ]
  },
  {
   "cell_type": "code",
   "execution_count": 4,
   "id": "5952ba12",
   "metadata": {},
   "outputs": [
    {
     "name": "stdout",
     "output_type": "stream",
     "text": [
      "Hello!!my python world\n",
      "22\n",
      "range(0, 22)\n",
      "o!!my pytho\n",
      "True\n",
      "False\n",
      "llo\n"
     ]
    }
   ],
   "source": [
    "str1=\"Hello!!\"\n",
    "str2=str1+\"my python world\"\n",
    "print(str2)\n",
    "l=len(str2)\n",
    "print(l)\n",
    "print(range(l))\n",
    "sliced_str=str2[4:15]\n",
    "print(sliced_str)\n",
    "print(\"my\"in str2)\n",
    "print(\"is\"in str2)\n",
    "substr=str2[2:5]\n",
    "print(substr)"
   ]
  },
  {
   "cell_type": "markdown",
   "id": "682d189f",
   "metadata": {},
   "source": [
    "Q3)"
   ]
  },
  {
   "cell_type": "code",
   "execution_count": 11,
   "id": "f2c0468b",
   "metadata": {},
   "outputs": [
    {
     "name": "stdout",
     "output_type": "stream",
     "text": [
      "['Rajagiri', 'BCM', 'CMS', 'SD', 'CUSAT']\n",
      "['Rajagiri', 'BCM', 'CMS', 'SD', 'CUSAT', 'SB']\n",
      "['Saingits', 'Rajagiri', 'BCM', 'CMS', 'SD', 'CUSAT', 'SB']\n",
      "['Saingits', 'Rajagiri', 'BCM', 'CMS', 'CUSAT', 'SB']\n"
     ]
    }
   ],
   "source": [
    "list=[\"Rajagiri\",\"BCM\",\"CMS\",\"SD\",\"CUSAT\"]\n",
    "print(list)\n",
    "list.append(\"SB\")\n",
    "print(list)\n",
    "list.insert(0,\"Saingits\")\n",
    "print(list)\n",
    "list.remove(\"SD\")\n",
    "print(list)"
   ]
  },
  {
   "cell_type": "markdown",
   "id": "adb60423",
   "metadata": {},
   "source": [
    "Q4)\n"
   ]
  },
  {
   "cell_type": "code",
   "execution_count": 13,
   "id": "656b8ede",
   "metadata": {},
   "outputs": [
    {
     "name": "stdout",
     "output_type": "stream",
     "text": [
      "('Monitor', 'RAM', 'Expansion Cards', 'HDD')\n",
      "True\n"
     ]
    }
   ],
   "source": [
    "tuple=(\"Monitor\",\"RAM\",\"Expansion Cards\",\"HDD\")\n",
    "print(tuple)\n",
    "print(\"HDD\" in tuple)"
   ]
  },
  {
   "cell_type": "markdown",
   "id": "af8ee593",
   "metadata": {},
   "source": [
    "Q5)"
   ]
  },
  {
   "cell_type": "code",
   "execution_count": 14,
   "id": "af135f12",
   "metadata": {},
   "outputs": [
    {
     "name": "stdout",
     "output_type": "stream",
     "text": [
      "{'Name': ['Amii', 'Anii'], 'Ph': ['7300', '9495'], 'E-mail': ['amiii23@gmail.com', 'anii401@gmail.com']}\n",
      "{'Name': ['Amii', 'Anii'], 'Ph': ['7300', '9495'], 'E-mail': ['amiii23@gmail.com', 'anii401@gmail.com'], 'Location': ('ktm', 'klm')}\n",
      "{'Name': ('amii', 'anju'), 'Ph': ['7300', '9495'], 'E-mail': ['amiii23@gmail.com', 'anii401@gmail.com'], 'Location': ('ktm', 'klm')}\n"
     ]
    }
   ],
   "source": [
    "Book={\"Name\":[\"Amii\",\"Anii\"],\n",
    "        'Ph':[\"7300\",'9495'],\n",
    "        'E-mail':['amiii23@gmail.com','anii401@gmail.com']}\n",
    "print(Book)\n",
    "Book[\"Location\"]=\"ktm\",\"klm\"\n",
    "print(Book)\n",
    "Book[\"Name\"]=\"amii\",\"anju\"\n",
    "print(Book)"
   ]
  },
  {
   "cell_type": "markdown",
   "id": "377734a1",
   "metadata": {},
   "source": [
    "Q6)\n"
   ]
  },
  {
   "cell_type": "code",
   "execution_count": 15,
   "id": "b052708d",
   "metadata": {},
   "outputs": [
    {
     "name": "stdout",
     "output_type": "stream",
     "text": [
      "Temp in celcius:23\n",
      "Temperature in fahrenheit:73.40\n",
      "Temp in fahrenheit:34\n",
      "Temperature in celcius:1.11\n"
     ]
    }
   ],
   "source": [
    "c=float(input(\"Temp in celcius:\"))\n",
    "f=(c*1.8)+32\n",
    "print((\"Temperature in fahrenheit:%.2f\")%f)\n",
    "f1=float(input(\"Temp in fahrenheit:\"))\n",
    "c1=(f1-32)/1.8\n",
    "print((\"Temperature in celcius:%.2f\")%c1)"
   ]
  },
  {
   "cell_type": "markdown",
   "id": "53c46c9e",
   "metadata": {},
   "source": [
    "Q7)"
   ]
  },
  {
   "cell_type": "code",
   "execution_count": 16,
   "id": "1644240f",
   "metadata": {},
   "outputs": [
    {
     "name": "stdout",
     "output_type": "stream",
     "text": [
      "Enter the range:6\n",
      "\n",
      "*\n",
      "**\n",
      "***\n",
      "****\n",
      "*****\n",
      "*****\n",
      "****\n",
      "***\n",
      "**\n",
      "*\n"
     ]
    }
   ],
   "source": [
    "n=int(input(\"Enter the range:\"))\n",
    "for i in range(n):\n",
    "   for j in range(i):\n",
    "     print(\"*\" ,end=\"\")\n",
    "   print('')\n",
    "for i in range(n-1,0,-1):\n",
    "    for j in range(i):\n",
    "        print(\"*\",end='')\n",
    "    print('')"
   ]
  },
  {
   "cell_type": "markdown",
   "id": "b9f8adbe",
   "metadata": {},
   "source": [
    "Q8)"
   ]
  },
  {
   "cell_type": "code",
   "execution_count": 17,
   "id": "926282c2",
   "metadata": {},
   "outputs": [
    {
     "name": "stdout",
     "output_type": "stream",
     "text": [
      "Enter first side:6\n",
      "Enter second side:7\n",
      "Enter the third side:8\n",
      "Not a right angled triangle!!\n"
     ]
    }
   ],
   "source": [
    "a=int(input(\"Enter first side:\"))\n",
    "b=int(input(\"Enter second side:\"))\n",
    "c=int(input(\"Enter the third side:\"))\n",
    "if(a**2+b**2)==(c**2):\n",
    "    print(\"Right angled triangle!!\")\n",
    "else:\n",
    "    print(\"Not a right angled triangle!!\")"
   ]
  },
  {
   "cell_type": "markdown",
   "id": "418a93a3",
   "metadata": {},
   "source": [
    "Q9)"
   ]
  },
  {
   "cell_type": "code",
   "execution_count": 18,
   "id": "4c55c5b4",
   "metadata": {},
   "outputs": [
    {
     "name": "stdout",
     "output_type": "stream",
     "text": [
      "Enter a no:34\n",
      "No is not a multiple of 5 and 7\n"
     ]
    }
   ],
   "source": [
    "a=int(input(\"Enter a no:\"))\n",
    "if(a%5==0 and a%7==0):\n",
    "    print(\"No is multiple of both 5 and 7\")\n",
    "elif(a%5==0):\n",
    "    print(\"No is multiple of 5\")\n",
    "elif(a%7==0):\n",
    "    print(\"No is multiple of 7\")\n",
    "else:\n",
    "    print(\"No is not a multiple of 5 and 7\")"
   ]
  },
  {
   "cell_type": "markdown",
   "id": "e6caf435",
   "metadata": {},
   "source": [
    "Q10)\n"
   ]
  },
  {
   "cell_type": "code",
   "execution_count": 8,
   "id": "5385eb44",
   "metadata": {},
   "outputs": [
    {
     "name": "stdout",
     "output_type": "stream",
     "text": [
      "list of list of numbers whose sum is an even no: [101, 103, 105, 107, 109, 110, 112, 114, 116, 118, 121, 123, 125, 127, 129, 130, 132, 134, 136, 138, 141, 143, 145, 147, 149, 150, 152, 154, 156, 158, 161, 163, 165, 167, 169, 170, 172, 174, 176, 178, 181, 183, 185, 187, 189, 190, 192, 194, 196, 198, 200]\n"
     ]
    }
   ],
   "source": [
    "list=[]\n",
    "for i in range (100, 201):\n",
    "    sum=0\n",
    "    for j in str(i):\n",
    "       j=int(j)\n",
    "       sum=sum+j\n",
    "    if sum%2==0:\n",
    "       list.append(i)\n",
    "print(\"list of list of numbers whose sum is an even no:\",list)"
   ]
  },
  {
   "cell_type": "raw",
   "id": "15a6cf9a",
   "metadata": {},
   "source": [
    "Q11)"
   ]
  },
  {
   "cell_type": "code",
   "execution_count": null,
   "id": "63c74d61",
   "metadata": {},
   "outputs": [],
   "source": [
    "##done\n"
   ]
  },
  {
   "cell_type": "markdown",
   "id": "ad125fef",
   "metadata": {},
   "source": [
    "Q12)"
   ]
  },
  {
   "cell_type": "code",
   "execution_count": 1,
   "id": "5330b528",
   "metadata": {},
   "outputs": [
    {
     "name": "stdout",
     "output_type": "stream",
     "text": [
      "Result:\n",
      "[58, 64]\n",
      "[139, 154]\n"
     ]
    }
   ],
   "source": [
    "def multiply_matrices(m1, m2):\n",
    "    r1 = len(m1)\n",
    "    r2 = len(m2)\n",
    "    c1 = len(m1[0])\n",
    "    c2 = len(m2[0])\n",
    "\n",
    "    if c1 != r2:\n",
    "        print(\"Matrix multiplication is not possible.\")\n",
    "        return None\n",
    "\n",
    "    result = [[0 for _ in range(c2)] for _ in range(r1)]\n",
    "\n",
    "    for i in range(r1):\n",
    "        for j in range(c2):\n",
    "            for k in range(c1):\n",
    "                result[i][j] += m1[i][k] * m2[k][j]\n",
    "\n",
    "    return result\n",
    "\n",
    "m1 = [[1, 2, 3],\n",
    "      [4, 5, 6]]\n",
    "\n",
    "m2 = [[7, 8],\n",
    "      [9, 10],\n",
    "      [11, 12]]\n",
    "\n",
    "result = multiply_matrices(m1, m2)\n",
    "if result:\n",
    "    print(\"Result:\")\n",
    "    for row in result:\n",
    "        print(row)\n"
   ]
  },
  {
   "cell_type": "markdown",
   "id": "bf11043b",
   "metadata": {},
   "source": [
    "Q13)"
   ]
  },
  {
   "cell_type": "code",
   "execution_count": 2,
   "id": "2b753bc7",
   "metadata": {},
   "outputs": [
    {
     "name": "stdout",
     "output_type": "stream",
     "text": [
      "Enter range:6\n",
      "1\n",
      "1\n",
      "1\n",
      "2\n",
      "3\n",
      "5\n"
     ]
    }
   ],
   "source": [
    "n=int(input(\"Enter range:\"))\n",
    "f=0\n",
    "s=1\n",
    "for i in range(0,n):\n",
    "    if i<=1:\n",
    "        result= 1\n",
    "    else:\n",
    "        result=f+s;\n",
    "        f=s;\n",
    "        s=result;\n",
    "    print(result)\n",
    "        \n",
    "        "
   ]
  },
  {
   "cell_type": "markdown",
   "id": "ba1d7d47",
   "metadata": {},
   "source": [
    "Q14)"
   ]
  },
  {
   "cell_type": "code",
   "execution_count": 3,
   "id": "b8d33eb2",
   "metadata": {},
   "outputs": [
    {
     "name": "stdout",
     "output_type": "stream",
     "text": [
      "Enter first no:2\n",
      "Enter second no:3\n",
      "25\n"
     ]
    }
   ],
   "source": [
    "a=int(input(\"Enter first no:\"))\n",
    "b=int(input(\"Enter second no:\"))\n",
    "print((a+b)*(a+b))"
   ]
  },
  {
   "cell_type": "markdown",
   "id": "fcc25c79",
   "metadata": {},
   "source": [
    "Q15)"
   ]
  },
  {
   "cell_type": "code",
   "execution_count": 7,
   "id": "494052f3",
   "metadata": {},
   "outputs": [
    {
     "name": "stdout",
     "output_type": "stream",
     "text": [
      "Enter x coordinate:2\n",
      "Enter y coordinate:3\n",
      "(2, 3)\n",
      "Enter x coordinate:4\n",
      "Enter y coordinate:5\n",
      "(4, 5)\n",
      "2.8284271247461903\n"
     ]
    }
   ],
   "source": [
    "a=int(input(\"Enter x coordinate:\"))\n",
    "b=int(input(\"Enter y coordinate:\"))\n",
    "print((a,b))\n",
    "x=int(input(\"Enter x coordinate:\"))\n",
    "y=int(input(\"Enter y coordinate:\"))\n",
    "print((x,y))\n",
    "print((((x-a)**2+(y-b)**2))**0.5)"
   ]
  },
  {
   "cell_type": "markdown",
   "id": "ab556519",
   "metadata": {},
   "source": [
    "Q16)"
   ]
  },
  {
   "cell_type": "code",
   "execution_count": 13,
   "id": "ff177b24",
   "metadata": {},
   "outputs": [],
   "source": [
    "file1=open(\"add.py\",\"r\")\n"
   ]
  },
  {
   "cell_type": "code",
   "execution_count": 14,
   "id": "bcb3f9c0",
   "metadata": {},
   "outputs": [
    {
     "name": "stdout",
     "output_type": "stream",
     "text": [
      "a=int(input(\"Enter x coordinate:\"))\n",
      "b=int(input(\"Enter y coordinate:\"))\n",
      "print((a,b))\n",
      "x=int(input(\"Enter x coordinate:\"))\n",
      "y=int(input(\"Enter y coordinate:\"))\n",
      "print((x,y))\n",
      "print((((x-a)**2+(y-b)**2))**0.5)\n"
     ]
    }
   ],
   "source": [
    "read_content=file1.read()\n",
    "print(read_content)"
   ]
  },
  {
   "cell_type": "markdown",
   "id": "b12d570c",
   "metadata": {},
   "source": [
    "Q17)"
   ]
  },
  {
   "cell_type": "code",
   "execution_count": 17,
   "id": "3f3da3f4",
   "metadata": {},
   "outputs": [
    {
     "name": "stdout",
     "output_type": "stream",
     "text": [
      "Enter the size of the array: 5\n",
      "Enter element at index 0: 1\n",
      "Enter element at index 1: 23\n",
      "Enter element at index 2: 44\n",
      "Enter element at index 3: 67\n",
      "Enter element at index 4: 12\n",
      "Array elements:\n",
      "1\n",
      "23\n",
      "44\n",
      "67\n",
      "12\n",
      "Sorted array is:\n",
      " 1  12  23  44  67 "
     ]
    }
   ],
   "source": [
    "def bubbleSort(arr):\n",
    "    n = len(arr)\n",
    "    swapped = False\n",
    "    for i in range(n-1):\n",
    "        for j in range(0, n-i-1):\n",
    "            if arr[j] > arr[j + 1]:\n",
    "                swapped = True\n",
    "                arr[j], arr[j + 1] = arr[j + 1], arr[j]\n",
    "                if not swapped:\n",
    "                    return\n",
    "size = int(input(\"Enter the size of the array: \"))\n",
    "arr = []\n",
    "for i in range(size):\n",
    "    e = int(input(\"Enter element at index {}: \".format(i)))\n",
    "    arr.append(e)\n",
    "print(\"Array elements:\")\n",
    "for e in arr:\n",
    "    print(e)\n",
    "bubbleSort(arr) \n",
    "print(\"Sorted array is:\")\n",
    "for i in range(len(arr)):\n",
    "    print(\"% d\" % arr[i], end=\" \")"
   ]
  },
  {
   "cell_type": "markdown",
   "id": "36e5d76b",
   "metadata": {},
   "source": [
    "Q18)"
   ]
  },
  {
   "cell_type": "code",
   "execution_count": 19,
   "id": "fb67b814",
   "metadata": {},
   "outputs": [
    {
     "name": "stdout",
     "output_type": "stream",
     "text": [
      "Enter the size of the array: 5\n",
      "Enter element at index 0: 12\n",
      "Enter element at index 1: 2\n",
      "Enter element at index 2: 45\n",
      "Enter element at index 3: 22\n",
      "Enter element at index 4: 0\n",
      "Array elements:\n",
      "1\n",
      "12\n",
      "23\n",
      "44\n",
      "67\n",
      "12\n",
      "2\n",
      "45\n",
      "22\n",
      "0\n",
      "Unsorted Array\n",
      "[]\n",
      "Sorted Array in Ascending Order:\n",
      "[]\n"
     ]
    }
   ],
   "source": [
    "def partition(array, low, high):\n",
    "    pivot = array[high]\n",
    "    i = low - 1\n",
    "    for j in range(low, high):\n",
    "        if array[j] <= pivot:\n",
    "            i = i + 1\n",
    "            (array[i], array[j]) = (array[j], array[i])\n",
    "    (array[i + 1], array[high]) = (array[high], array[i + 1])\n",
    "    return i + 1 \n",
    "def quickSort(array, low, high):\n",
    "    if low < high:\n",
    "        pi = partition(array, low, high)\n",
    "        quickSort(array, low, pi - 1)\n",
    "        quickSort(array, pi + 1, high) \n",
    "data = [1, 7, 4, 1, 10, 9, -2]\n",
    "print(\"Unsorted Array\")\n",
    "print(data) \n",
    "size = len(data) \n",
    "quickSort(data, 0, size - 1)\n",
    "print('Sorted Array in Ascending Order:')\n",
    "print(data)"
   ]
  },
  {
   "cell_type": "markdown",
   "id": "450afb92",
   "metadata": {},
   "source": [
    "Q19)"
   ]
  },
  {
   "cell_type": "code",
   "execution_count": 1,
   "id": "a049c43b",
   "metadata": {},
   "outputs": [
    {
     "name": "stdout",
     "output_type": "stream",
     "text": [
      "Element 22 found at index 4\n"
     ]
    }
   ],
   "source": [
    "def linear_search(arr, target):\n",
    "    for i in range(len(arr)):\n",
    "        if arr[i] == target:\n",
    "            return i  \n",
    "    return -1  \n",
    "\n",
    "numbers = [64, 34, 25, 12, 22, 11, 90]\n",
    "target = 22\n",
    "index = linear_search(numbers, target)\n",
    "if index != -1:\n",
    "    print(\"Element\", target, \"found at index\", index)\n",
    "else:\n",
    "    print(\"Element\", target, \"not found in the array\")"
   ]
  },
  {
   "cell_type": "markdown",
   "id": "9ab3931f",
   "metadata": {},
   "source": [
    "Q20)"
   ]
  },
  {
   "cell_type": "code",
   "execution_count": 2,
   "id": "61fbf8a8",
   "metadata": {},
   "outputs": [
    {
     "name": "stdout",
     "output_type": "stream",
     "text": [
      "Element 22 found at index 2\n"
     ]
    }
   ],
   "source": [
    "def binary_search(arr, target):\n",
    "    low = 0\n",
    "    high = len(arr) - 1\n",
    "\n",
    "    while low <= high:\n",
    "        mid = (low + high) // 2\n",
    "        if arr[mid] == target:\n",
    "            return mid  \n",
    "        elif arr[mid] < target:\n",
    "            low = mid + 1\n",
    "        else:\n",
    "            high = mid - 1\n",
    "\n",
    "    return -1  \n",
    "\n",
    "numbers = [11, 12, 22, 25, 34, 64, 90]\n",
    "target = 22\n",
    "index = binary_search(numbers, target)\n",
    "if index != -1:\n",
    "    print(\"Element\", target, \"found at index\", index)\n",
    "else:\n",
    "    print(\"Element\", target, \"not found in the array\")"
   ]
  },
  {
   "cell_type": "markdown",
   "id": "b4a63326",
   "metadata": {},
   "source": [
    "Q21)"
   ]
  },
  {
   "cell_type": "code",
   "execution_count": 3,
   "id": "ab44ccd3",
   "metadata": {},
   "outputs": [
    {
     "name": "stdout",
     "output_type": "stream",
     "text": [
      "Sum of numbers from 0 to 10: 55\n"
     ]
    }
   ],
   "source": [
    "def calculate_sum(n):\n",
    "    if n == 0:\n",
    "        return 0\n",
    "    else:\n",
    "        return n + calculate_sum(n - 1)\n",
    "result = calculate_sum(10)\n",
    "print(\"Sum of numbers from 0 to 10:\", result)"
   ]
  },
  {
   "cell_type": "markdown",
   "id": "06cb7918",
   "metadata": {},
   "source": [
    "Q22)"
   ]
  },
  {
   "cell_type": "code",
   "execution_count": 4,
   "id": "5f506095",
   "metadata": {},
   "outputs": [
    {
     "name": "stdout",
     "output_type": "stream",
     "text": [
      "Student ID: 67890\n",
      "Student ID: 12345\n",
      "Student Name: John \n",
      "Student ID: 56789\n",
      "Student Class: Maths\n",
      "Student ID: 13579\n",
      "Student Name: Don\n",
      "Student Class: Science\n"
     ]
    }
   ],
   "source": [
    "def student_data(student_id, student_name=None, student_class=None):\n",
    "    print(\"Student ID:\", student_id)\n",
    "    if student_name:\n",
    "        print(\"Student Name:\", student_name)\n",
    "    if student_class:\n",
    "        print(\"Student Class:\", student_class)\n",
    "\n",
    "student_data(67890)\n",
    "student_data(12345, student_name=\"John \")\n",
    "student_data(56789, student_class=\"Maths\")\n",
    "student_data(13579, student_name=\"Don\", student_class=\"Science\")"
   ]
  },
  {
   "cell_type": "markdown",
   "id": "c1d1bd4e",
   "metadata": {},
   "source": [
    "Q23)"
   ]
  },
  {
   "cell_type": "code",
   "execution_count": 7,
   "id": "4b6440ba",
   "metadata": {},
   "outputs": [
    {
     "name": "stdout",
     "output_type": "stream",
     "text": [
      "Enter a number: 456\n",
      "Final palindrome: 1221\n"
     ]
    }
   ],
   "source": [
    "def reverse_number(n):\n",
    "    return int(str(n)[::-1])\n",
    "\n",
    "def is_palindrome(n):\n",
    "    return str(n) == str(n)[::-1]\n",
    "\n",
    "def reverse_and_add(n):\n",
    "    while True:\n",
    "        reversed_n = reverse_number(n)\n",
    "        n += reversed_n\n",
    "        if is_palindrome(n):\n",
    "            return n\n",
    "\n",
    "num = int(input(\"Enter a number: \"))\n",
    "result = reverse_and_add(num)\n",
    "print(\"Final palindrome:\", result)"
   ]
  },
  {
   "cell_type": "markdown",
   "id": "07b8b390",
   "metadata": {},
   "source": [
    "Q24)"
   ]
  },
  {
   "cell_type": "code",
   "execution_count": 11,
   "id": "62d27219",
   "metadata": {},
   "outputs": [
    {
     "name": "stdout",
     "output_type": "stream",
     "text": [
      "\n",
      "--- Phonebook Directory ---\n",
      "1. Add Contact\n",
      "2. Search Contact\n",
      "3. Exit\n",
      "Enter your choice (1-3): 1\n",
      "Enter the name: rinku\n",
      "Enter number: 3456789278\n",
      "success!!\n",
      "\n",
      "--- Phonebook Directory ---\n",
      "1. Add Contact\n",
      "2. Search Contact\n",
      "3. Exit\n",
      "Enter your choice (1-3): 2\n",
      "Enter the name: vinku\n",
      "No contact found for vinku.\n",
      "\n",
      "--- Phonebook Directory ---\n",
      "1. Add Contact\n",
      "2. Search Contact\n",
      "3. Exit\n",
      "Enter your choice (1-3): 3\n"
     ]
    },
    {
     "ename": "SystemExit",
     "evalue": "",
     "output_type": "error",
     "traceback": [
      "An exception has occurred, use %tb to see the full traceback.\n",
      "\u001b[1;31mSystemExit\u001b[0m\n"
     ]
    }
   ],
   "source": [
    "import sys\n",
    "phonebook = {}  \n",
    "\n",
    "def add_contact():\n",
    "    name = input(\"Enter the name: \")\n",
    "    number = input(\"Enter number: \")\n",
    "    phonebook[name] = number\n",
    "    print(\"success!!\")\n",
    "\n",
    "def search_contact():\n",
    "    name = input(\"Enter the name: \")\n",
    "    if name in phonebook:\n",
    "        number = phonebook[name]\n",
    "        print(f\"Number for {name}: {number}\")\n",
    "    else:\n",
    "        print(f\"No contact found for {name}.\")\n",
    "\n",
    "menu = {\n",
    "    1: (\"Add Contact\", add_contact),\n",
    "    2: (\"Search Contact\", search_contact),\n",
    "    3: (\"Exit\", sys.exit)\n",
    "}\n",
    "\n",
    "while True:\n",
    "    print(\"\\n--- Phonebook Directory ---\")\n",
    "    for key, value in menu.items():\n",
    "        print(f\"{key}. {value[0]}\")\n",
    "    \n",
    "    choice = int(input(\"Enter your choice (1-3): \"))\n",
    "    if choice in menu:\n",
    "        menu[choice][1]()\n",
    "    else:\n",
    "        print(\"Invalid choice!!!\")"
   ]
  },
  {
   "cell_type": "markdown",
   "id": "d6b8492d",
   "metadata": {},
   "source": [
    "Q25)"
   ]
  },
  {
   "cell_type": "code",
   "execution_count": 12,
   "id": "858ae7e0",
   "metadata": {},
   "outputs": [
    {
     "name": "stdout",
     "output_type": "stream",
     "text": [
      "Set Union: {1, 2, 3, 4, 5, 6, 7, 8}\n",
      "Set Intersection: {4, 5}\n",
      "Set Difference (set1 - set2): {1, 2, 3}\n",
      "Set Difference (set2 - set1): {8, 6, 7}\n"
     ]
    }
   ],
   "source": [
    "set1 = {1, 2, 3, 4, 5}\n",
    "set2 = {4, 5, 6, 7, 8}\n",
    "\n",
    "# A. Set Union\n",
    "union = set1.union(set2)\n",
    "print(\"Set Union:\", union)\n",
    "\n",
    "# B. Set Intersection\n",
    "intersection = set1.intersection(set2)\n",
    "print(\"Set Intersection:\", intersection)\n",
    "\n",
    "# C. Set Difference\n",
    "difference = set1.difference(set2)\n",
    "print(\"Set Difference (set1 - set2):\", difference)\n",
    "\n",
    "difference2 = set2.difference(set1)\n",
    "print(\"Set Difference (set2 - set1):\", difference2)"
   ]
  },
  {
   "cell_type": "markdown",
   "id": "07693cc0",
   "metadata": {},
   "source": [
    "Q26)"
   ]
  },
  {
   "cell_type": "code",
   "execution_count": 13,
   "id": "41558084",
   "metadata": {},
   "outputs": [
    {
     "name": "stdout",
     "output_type": "stream",
     "text": [
      "Enter the number of students: 3\n",
      "\n",
      "--- Student 1 ---\n",
      "Enter student name: reena\n",
      "Enter roll number: 23\n",
      "Enter total marks: 456\n",
      "\n",
      "--- Student 2 ---\n",
      "Enter student name: ester\n",
      "Enter roll number: 14\n",
      "Enter total marks: 321\n",
      "\n",
      "--- Student 3 ---\n",
      "Enter student name: thobin\n",
      "Enter roll number: 29\n",
      "Enter total marks: 121\n",
      "\n",
      "Student with the highest total marks:\n",
      "Name: reena\n",
      "Roll No: 23\n",
      "Total Marks: 456.0\n"
     ]
    }
   ],
   "source": [
    "def get_student_details(num_students):\n",
    "    student_details = {}\n",
    "    for i in range(num_students):\n",
    "        print(f\"\\n--- Student {i+1} ---\")\n",
    "        name = input(\"Enter student name: \")\n",
    "        roll_no = input(\"Enter roll number: \")\n",
    "        total_marks = float(input(\"Enter total marks: \"))\n",
    "        student_details[name] = {\"Roll No\": roll_no, \"Total Marks\": total_marks}\n",
    "    return student_details\n",
    "\n",
    "def get_student_with_highest_marks(student_details):\n",
    "    highest_marks = -1\n",
    "    highest_marks_student = None\n",
    "    for name, details in student_details.items():\n",
    "        marks = details[\"Total Marks\"]\n",
    "        if marks > highest_marks:\n",
    "            highest_marks = marks\n",
    "            highest_marks_student = (name, details[\"Roll No\"], marks)\n",
    "    return highest_marks_student\n",
    "\n",
    "num_students = int(input(\"Enter the number of students: \"))\n",
    "\n",
    "students = get_student_details(num_students)\n",
    "\n",
    "highest_marks_student = get_student_with_highest_marks(students)\n",
    "\n",
    "if highest_marks_student:\n",
    "    name, roll_no, marks = highest_marks_student\n",
    "    print(f\"\\nStudent with the highest total marks:\")\n",
    "    print(\"Name:\", name)\n",
    "    print(\"Roll No:\", roll_no)\n",
    "    print(\"Total Marks:\", marks)\n",
    "else:\n",
    "    print(\"No students found.\")"
   ]
  },
  {
   "cell_type": "markdown",
   "id": "b0763562",
   "metadata": {},
   "source": [
    "Q27)"
   ]
  },
  {
   "cell_type": "code",
   "execution_count": 15,
   "id": "a0633aee",
   "metadata": {},
   "outputs": [
    {
     "name": "stdout",
     "output_type": "stream",
     "text": [
      "Enter the path of the source file: C:\\Users\\HP\\Desktop\\java\n",
      "Enter the path of the destination file: D:\\Eclipse\n",
      "An error occurred: [Errno 13] Permission denied: 'C:\\\\Users\\\\HP\\\\Desktop\\\\java'\n"
     ]
    }
   ],
   "source": [
    "def copy_file(source_file, destination_file):\n",
    "    try:\n",
    "        with open(source_file, 'r') as source, open(destination_file, 'w') as destination:\n",
    "            for line in source:\n",
    "                destination.write(line)\n",
    "        print(\"File copied successfully.\")\n",
    "    except FileNotFoundError:\n",
    "        print(\"One or both files not found.\")\n",
    "    except Exception as e:\n",
    "        print(\"An error occurred:\", str(e))\n",
    "\n",
    "# Test the program\n",
    "source_file = input(\"Enter the path of the source file: \")\n",
    "destination_file = input(\"Enter the path of the destination file: \")\n",
    "copy_file(source_file, destination_file)"
   ]
  },
  {
   "cell_type": "markdown",
   "id": "5378a99a",
   "metadata": {},
   "source": [
    "Q27)b]\n"
   ]
  },
  {
   "cell_type": "code",
   "execution_count": 16,
   "id": "8897dfdd",
   "metadata": {},
   "outputs": [
    {
     "name": "stdout",
     "output_type": "stream",
     "text": [
      "Enter the name of the directory to create: Python\n",
      "Directory 'Python' created successfully.\n",
      "\n",
      "Directory listing:\n",
      ".~lock.DSSS.pdf#\n",
      "2219_dmrecord gygy.docx\n",
      "286-2864796_minions-wallpapers-hd-minions-desktop-wallpaper-hd.jpg\n",
      "AI 3,4,5notes.pdf\n",
      "AIRLINE DATASET.docx\n",
      "Airlines_data.zip\n",
      "Ajay Krishnan G Final-1.pdf\n",
      "Ajay Krishnan G Final.pdf\n",
      "Akshaya Java Record_merged.pdf\n",
      "AMRUTHADATAMINING_merged-2-3.docx\n",
      "AMRUTHADATAMINING_merged-2-3.pdf\n",
      "AMRUTHADATAMINING_merged.pdf\n",
      "Anaconda3-2023.03-1-Windows-x86_64.exe\n",
      "ANADATAMINING_merged-2-3.pdf\n",
      "Anakha Ajkumar .csv\n",
      "Anakha Ajkumar_Msc cs .pdf\n",
      "Anakha Front  FINAL page-1-6 (1).pdf\n",
      "Anakha Front  FINAL page-1-6.pdf\n",
      "Anakha Front  FINAL page.pdf\n",
      "Anakha Front page.pdf\n",
      "Anakha Java Record  hggjjjRough (2) (1)-149-187 (1).pdf\n",
      "Anakha Java Record  hggjjjRough (2) (1)-149-187.pdf\n",
      "Anakha Java Record  hggjjjRough (2) (1).pdf\n",
      "Anakha Java Record  nmbhuRough (2) (1).docx\n",
      "Anakha Java Record Rough (2) (1).docx\n",
      "Anakha Java Record Rough (2) (1).pdf\n",
      "Anakha Java Record Rough (2).pdf\n",
      "Anakha_new (1) (1).ipynb\n",
      "archive (1).zip\n",
      "archive.zip\n",
      "Areausing2class.java\n",
      "Arrays.java\n",
      "Artificial Intelligence (AI) Project Proposal by Slidesgo.pptx\n",
      "Artificial_Intelligence.pdf\n",
      "ASE .pptx\n",
      "ASSIGNMENT 1.docx\n",
      "Athira_8th_june_2023 (1).ipynb\n",
      "Black Friday Sale_report (1).pdf\n",
      "Blank diagram.csv\n",
      "casewindowsII (1).ppt\n",
      "casewindowsII.ppt\n",
      "Chapter 4.ppt\n",
      "chapter2_tutorial.pptx\n",
      "College.class\n",
      "Complexno.java\n",
      "Composer-Setup.exe\n",
      "Data Mining Concepts and Techniques – Jiawei Han and MichelineKamber, Second Edition, Elsevier, 2006.pdf\n",
      "data1.csv\n",
      "Data_mining_front_&_index.docx\n",
      "Data_Train.xlsx\n",
      "dcn notes.docx\n",
      "DCN_MODULE - 5.pptx\n",
      "DeserializationExample.class\n",
      "DeserializationExample.java\n",
      "Desktop - Shortcut.lnk\n",
      "desktop.ini\n",
      "Dev-Cpp 5.11 TDM-GCC 4.9.2 Setup.exe\n",
      "DFDF.R\n",
      "DM  Final  first RECORD -1-20 (1).pdf\n",
      "DM  Final  first RECORD -1-20.pdf\n",
      "DM  Final  first RECORD .pdf\n",
      "DM  Final RECORD .docx\n",
      "DM  Final RECORD .pdf\n",
      "DM  Final rest  RECORD -21-127-20-107-4-88.pdf\n",
      "DM  Final rest  RECORD -21-127-20-107.pdf\n",
      "DM  Final rest  RECORD -21-127.pdf\n",
      "DM  Final rest  RECORD .pdf\n",
      "DM  Finalgfyghb RECORD .pdf\n",
      "DM BACK COVER PAGE.pdf\n",
      "Dm Case  Report.docx\n",
      "Dm Case  Report.pdf\n",
      "Dm Case Report.pdf\n",
      "DM Final (1).pdf\n",
      "DM Final.pdf\n",
      "DM FRONT COVER PAGE.docx\n",
      "DM FRONT hCOVER PAGE.pdf\n",
      "Dm lab record.pdf\n",
      "DM MODULE 3.pdf\n",
      "DM MODULE 4.pdf\n",
      "DM RECORD (1).pdf\n",
      "DM RECORD.pdf\n",
      "DM recref.docx\n",
      "Dm Report.pdf\n",
      "DM ROUGH 2 (1)-22-32.pdf\n",
      "DM ROUGH 2 (1).pdf\n",
      "DM ROUGH 2.pdf\n",
      "eclipse-inst-jre-win64.exe\n",
      "Elegance Free Website Template - Free-CSS.com.zip\n",
      "ExceptionHandling1 (1).java\n",
      "ExceptionHandling1.java\n",
      "Git-2.41.0.2-64-bit (1).exe\n",
      "Git-2.41.0.2-64-bit.exe\n",
      "GitHubDesktopSetup-x64.exe\n",
      "GrammarlyInstaller.cx7Ikj9cjklv7mbljhk206g2.exe\n",
      "GroupChat (1).java\n",
      "GroupChat.java\n",
      "heart_failure_clinical_records_dataset.csv\n",
      "HOME LOAN APPROVAL (1).pptx\n",
      "HOME LOAN APPROVAL DM!.pptx\n",
      "HOME LOAN APPROVAL DM.pptx\n",
      "HOME LOAN APPROVAL.pptx\n",
      "ieee_paper_word_template_letter_v3.doc\n",
      "ilovepdf_merged (1)-2 (1).pdf\n",
      "ilovepdf_merged (1)-2.pdf\n",
      "ilovepdf_merged (1).pdf\n",
      "ilovepdf_merged final-2-3.pdf\n",
      "ilovepdf_merged-2-3.pdf\n",
      "ilovepdf_merged-4-182 (1).pdf\n",
      "ilovepdf_merged-4-182.pdf\n",
      "ilovepdf_merged.pdf\n",
      "IMG_2104.JPG\n",
      "IMG_2105.JPG\n",
      "IMG_3054.JPG\n",
      "IMG_3055.JPG\n",
      "IMG_3056.JPG\n",
      "IMG_3057.JPG\n",
      "IMG_3058.JPG\n",
      "IMG_3059.JPG\n",
      "IMG_3060.JPG\n",
      "IMG_3061.JPG\n",
      "IMG_5258.jpg\n",
      "IMG_5259.jpg\n",
      "IMG_5372.HEIC\n",
      "IMG_5392.jpg\n",
      "IMG_5417.jpg\n",
      "IMG_5418.jpg\n",
      "IMG_5429.jpg\n",
      "IMG_5432.jpg\n",
      "IMG_5433.jpg\n",
      "IMG_5450.heic\n",
      "IMG_5460.MOV\n",
      "IMG_5467.heic\n",
      "IMG_5468.heic\n",
      "IMG_5472.heic\n",
      "IMG_5474 (1).heic\n",
      "IMG_5474.heic\n",
      "InheritanceTest.class\n",
      "InheritanceTest.java\n",
      "JAVA BACK  (1).pdf\n",
      "JAVA COVER PAGE (1).pdf\n",
      "JAVA COVER PAGE (2).pdf\n",
      "JAVA COVER PAGE (3).pdf\n",
      "JAVA COVER PAGE.pdf\n",
      "Java Final.pdf\n",
      "Java Record final (2) (1).pdf\n",
      "Java Record REST FINAL Rough (2) (1)-136-174.pdf\n",
      "Java Record REST FINAL Rough (2) (1).pdf\n",
      "Java Record Rough (1).docx\n",
      "Java Record Rough (2).docx\n",
      "Java Record Rough-1-4.pdf\n",
      "Java Record Rough-5-128.pdf\n",
      "Java Record Rough.docx\n",
      "Java Record Rough.pdf\n",
      "jdk-16.0.2_windows-x64_bin.exe\n",
      "jhguyhu.pdf\n",
      "jre-8u311-windows-x64.exe\n",
      "lab work .ipynb\n",
      "Lab-20230324T152857Z-001.zip\n",
      "Librarian_login.java\n",
      "ll.c\n",
      "Loginpage.java\n",
      "Module 4 Exam Part.pdf\n",
      "Module_3_Part_1.pdf\n",
      "Module_3_Part_2.pdf\n",
      "MSCCS DA Course Plan 2022.pdf\n",
      "MultiCatchEx1.java\n",
      "My Data_mining_front_&_index.pdf\n",
      "My DM FRONT COVER PAGE.pdf\n",
      "Myfinal Data_mining_front_&_index-3-6.pdf\n",
      "Myfinal Data_mining_front_&_index.docx\n",
      "Myfinal Data_mining_front_&_index.pdf\n",
      "Myfinal nbhData_mining_front_&_index-3-6.pdf\n",
      "Myfinal nbhData_mining_front_&_index.pdf\n",
      "Myfinal34 Data_mining_front_&_index-1-2.pdf\n",
      "Myfinal34 Data_mining_front_&_index.pdf\n",
      "MyServer.java\n",
      "NestedTryBlockEx1.java\n",
      "Ninite Chrome VLC WinRAR Zoom Installer.exe\n",
      "npp.8.4.8.Installer.x64.exe\n",
      "ojdbc8.jar\n",
      "Orange3-3.34.0-Miniconda-x86_64.exe\n",
      "Orange3-3.35.0-Miniconda-x86_64.exe\n",
      "OS assignment 1 (1).pdf\n",
      "Pictures - Shortcut.lnk\n",
      "Pointers-in-C-Program.zip\n",
      "ProducerConsumer.java\n",
      "PROJECT.pptx\n",
      "pxfuel.jpg\n",
      "Python lab work (1) (1) (1).ipynb\n",
      "Python lab work (1).ipynb\n",
      "Python lab work.ipynb\n",
      "R-4.3.0-win.exe\n",
      "Record Contents.docx\n",
      "RStudio-2023.06.0-421.exe\n",
      "se.pdf\n",
      "Serializable1.java\n",
      "SerializatinoIsA.java\n",
      "SerializationExample (1).java\n",
      "SerializationExample.class\n",
      "SerializationExample.java\n",
      "SerializationWithAggregation.java\n",
      "setup-eng-us-trial.exe\n",
      "Snapchat_PC-11.55.0.22.zip\n",
      "Software Testing Company by Slidesgo.pptx\n",
      "student.csv\n",
      "Student_home.java\n",
      "Turbo.C.3.2 (1).zip\n",
      "Turbo.C.3.2 (2).zip\n",
      "Turbo.C.3.2.zip\n",
      "UCAAT 2019_Jorge_Asensio_Ready.ppt\n",
      "UncheckedExceptionEx.java\n",
      "Unconfirmed 865326.crdownload\n",
      "Untitled document (1).docx\n",
      "Untitled document (1).pdf\n",
      "Untitled document (2).pdf\n",
      "Untitled document.docx\n",
      "Untitled document.pdf\n",
      "User_Registration.java\n",
      "v6.5.4.zip\n",
      "VSCodeUserSetup-x64-1.75.1.exe\n",
      "VSCodeUserSetup-x64-1.79.0.exe\n",
      "weka-3-8-6-azul-zulu-windows.exe\n",
      "WhatsAppSetup.exe\n",
      "Written Assignment.docx\n",
      "xampp-windows-x64-8.2.4-0-VS16-installer (1).exe\n",
      "~$  Final RECORD .docx\n",
      "~$19_dmrecord gygy.docx\n",
      "~$cord Contents.docx\n",
      "\n",
      "Python files in the current directory:\n",
      "\n",
      "Enter the name of the file to remove: Written Assignment.docx\n",
      "File 'Written Assignment.docx' removed successfully.\n"
     ]
    }
   ],
   "source": [
    "import os\n",
    "\n",
    "# A. Create a directory \n",
    "directory_name = input(\"Enter the name of the directory to create: \")\n",
    "try:\n",
    "    os.mkdir(directory_name)\n",
    "    print(f\"Directory '{directory_name}' created successfully.\")\n",
    "except FileExistsError:\n",
    "    print(f\"Directory '{directory_name}' already exists.\")\n",
    "except Exception as e:\n",
    "    print(\"An error occurred:\", str(e))\n",
    "\n",
    "# B. Directory listing\n",
    "print(\"\\nDirectory listing:\")\n",
    "for file_name in os.listdir():\n",
    "    if os.path.isfile(file_name):\n",
    "        print(file_name)\n",
    "\n",
    "# C. Search for \".py\" files\n",
    "print(\"\\nPython files in the current directory:\")\n",
    "for file_name in os.listdir():\n",
    "    if file_name.endswith(\".py\") and os.path.isfile(file_name):\n",
    "        print(file_name)\n",
    "\n",
    "# D. Remove a particular file\n",
    "file_to_remove = input(\"\\nEnter the name of the file to remove: \")\n",
    "try:\n",
    "    os.remove(file_to_remove)\n",
    "    print(f\"File '{file_to_remove}' removed successfully.\")\n",
    "except FileNotFoundError:\n",
    "    print(f\"File '{file_to_remove}' not found.\")\n",
    "except Exception as e:\n",
    "    print(\"An error occurred:\", str(e))"
   ]
  },
  {
   "cell_type": "markdown",
   "id": "b9495bfa",
   "metadata": {},
   "source": [
    "Q27)c]"
   ]
  },
  {
   "cell_type": "code",
   "execution_count": null,
   "id": "b361b823",
   "metadata": {},
   "outputs": [],
   "source": []
  }
 ],
 "metadata": {
  "kernelspec": {
   "display_name": "Python 3 (ipykernel)",
   "language": "python",
   "name": "python3"
  },
  "language_info": {
   "codemirror_mode": {
    "name": "ipython",
    "version": 3
   },
   "file_extension": ".py",
   "mimetype": "text/x-python",
   "name": "python",
   "nbconvert_exporter": "python",
   "pygments_lexer": "ipython3",
   "version": "3.10.9"
  }
 },
 "nbformat": 4,
 "nbformat_minor": 5
}
